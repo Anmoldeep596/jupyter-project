{
 "cells": [
  {
   "cell_type": "code",
   "execution_count": null,
   "id": "6f10be8a-1924-44bf-ace1-4ac06ea43f59",
   "metadata": {},
   "outputs": [],
   "source": []
  }
 ],
 "metadata": {
  "kernelspec": {
   "display_name": "",
   "name": ""
  },
  "language_info": {
   "name": ""
  }
 },
 "nbformat": 4,
 "nbformat_minor": 5
}
